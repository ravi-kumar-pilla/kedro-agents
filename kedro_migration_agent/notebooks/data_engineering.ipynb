{
 "cells": [
  {
   "cell_type": "code",
   "execution_count": null,
   "metadata": {
    "vscode": {
     "languageId": "plaintext"
    }
   },
   "outputs": [],
   "source": [
    "# Data Engineering Pipeline: Ingestion → Processing → Reporting\n",
    "\n",
    "# Step 1: Ingestion\n",
    "# -----------------\n",
    "import pandas as pd\n",
    "import numpy as np\n",
    "import matplotlib.pyplot as plt\n",
    "\n",
    "# Simulated sales data (in a real pipeline this could be read from CSV, DB, or API)\n",
    "data = {\n",
    "    \"date\": pd.date_range(start=\"2025-01-01\", periods=10, freq=\"D\"),\n",
    "    \"region\": [\"North\", \"South\", \"East\", \"West\", \"North\", \"South\", \"East\", \"West\", \"North\", \"South\"],\n",
    "    \"sales\": np.random.randint(100, 500, size=10),\n",
    "    \"returns\": np.random.randint(0, 50, size=10)\n",
    "}\n",
    "\n",
    "df = pd.DataFrame(data)\n",
    "print(\"Raw Data:\")\n",
    "display(df)\n",
    "\n",
    "# Step 2: Processing\n",
    "# ------------------\n",
    "# Calculate net sales\n",
    "df[\"net_sales\"] = df[\"sales\"] - df[\"returns\"]\n",
    "\n",
    "# Aggregate by region\n",
    "region_summary = (\n",
    "    df.groupby(\"region\")\n",
    "      .agg(total_sales=(\"sales\", \"sum\"),\n",
    "           total_returns=(\"returns\", \"sum\"),\n",
    "           net_sales=(\"net_sales\", \"sum\"))\n",
    "      .reset_index()\n",
    ")\n",
    "\n",
    "# Sort by net sales\n",
    "region_summary = region_summary.sort_values(by=\"net_sales\", ascending=False)\n",
    "print(\"\\nProcessed Summary:\")\n",
    "display(region_summary)\n",
    "\n",
    "# Step 3: Reporting\n",
    "# -----------------\n",
    "# Summary statistics\n",
    "print(\"\\nSummary Statistics:\")\n",
    "display(df.describe())\n",
    "\n",
    "# Plot net sales by region\n",
    "plt.figure(figsize=(6,4))\n",
    "plt.bar(region_summary[\"region\"], region_summary[\"net_sales\"], color=\"skyblue\")\n",
    "plt.title(\"Net Sales by Region\")\n",
    "plt.xlabel(\"Region\")\n",
    "plt.ylabel(\"Net Sales\")\n",
    "plt.show()\n"
   ]
  }
 ],
 "metadata": {
  "language_info": {
   "name": "python"
  }
 },
 "nbformat": 4,
 "nbformat_minor": 2
}
